{
  "nbformat": 4,
  "nbformat_minor": 0,
  "metadata": {
    "colab": {
      "name": "Backup_Base_Syntax.ipynb",
      "provenance": [],
      "collapsed_sections": [],
      "authorship_tag": "ABX9TyOF0RKX8M7IFvKII/d4+PGb"
    },
    "kernelspec": {
      "name": "python3",
      "display_name": "Python 3"
    },
    "language_info": {
      "name": "python"
    }
  },
  "cells": [
    {
      "cell_type": "code",
      "metadata": {
        "colab": {
          "base_uri": "https://localhost:8080/"
        },
        "id": "al2NIYYQvylX",
        "outputId": "0ba93da1-829a-4238-8734-209a2a533f7e"
      },
      "source": [
        "#print(x + 1)   # Addition\n",
        "#print(x - 1)   # Subtraction\n",
        "#print(x * 2)   # Multiplication\n",
        "#print(x ** 2)  # Exponentiation\n",
        "\n",
        "#print(t and f) # Logical AND;\n",
        "#print(t or f)  # Logical OR;\n",
        "#print(not t)   # Logical NOT;\n",
        "#print(t != f)  # Logical XOR;\n",
        "\n",
        "#s = \"hello\"\n",
        "#print(s.capitalize())  # Capitalize a string \"hello\"\n",
        "#print(s.upper())       # Convert a string to uppercase; prints \"HELLO\"\n",
        "#print(s.rjust(7))      # Right-justify a string, padding with spaces \"hello\"\n",
        "#print(s.center(7))     # Center a string, padding with spaces \"hello\"\n",
        "#print(s.replace('l', '(ell)'))  # Replace all instances of one substring with another \"he(ell)(ell)o\"\n",
        "#print('  world '.strip())  # Strip leading and trailing whitespace \"world\"\n",
        "\n",
        "x = 3\n",
        "\n",
        "print(x**3, type(x))\n",
        "print(\"Hello world\")\n",
        "\n"
      ],
      "execution_count": 10,
      "outputs": [
        {
          "output_type": "stream",
          "name": "stdout",
          "text": [
            "27 <class 'int'>\n",
            "vamos sputtacchios\n"
          ]
        }
      ]
    }
  ]
}